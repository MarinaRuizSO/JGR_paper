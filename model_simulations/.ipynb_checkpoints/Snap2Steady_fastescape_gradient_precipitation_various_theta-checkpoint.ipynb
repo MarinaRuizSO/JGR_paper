{
 "cells": [
  {
   "cell_type": "markdown",
   "id": "633388e8-9420-40d2-9d94-1434264141a4",
   "metadata": {},
   "source": [
    "# Snapping the landscape to Steady State with **variable theta** and **rainfall**\n",
    "\n",
    "This is added to **linear** precipitation scenarios"
   ]
  },
  {
   "cell_type": "code",
   "execution_count": 1,
   "id": "b51d95c1-9ec2-4f1c-9007-ba4e0d3a65e5",
   "metadata": {},
   "outputs": [],
   "source": [
    "# Importing what I need, they are all installable from conda in case you miss one of them\n",
    "import numpy as np\n",
    "import xarray as xr\n",
    "import xsimlab as xs\n",
    "import fastscape as fst\n",
    "from fastscape.processes.context import FastscapelibContext\n",
    "import numba as nb\n",
    "import math\n",
    "import zarr\n",
    "import itertools\n",
    "import matplotlib.pyplot as plt\n",
    "# Ignore that last\n",
    "# %load_ext xsimlab.ipython\n",
    "from hkb_diamondsquare import DiamondSquare as DS\n",
    "import lsdtopytools as lsd\n",
    "\n",
    "\n",
    "import constant_prec_fastscape_ext \n",
    "import constant_precipitation\n",
    "from fastscape.processes.grid import UniformRectilinearGrid2D"
   ]
  },
  {
   "cell_type": "markdown",
   "id": "e663f676-bffc-49fb-a387-12dfc72c9bf1",
   "metadata": {},
   "source": [
    "## Snapping the landscape to steady state"
   ]
  },
  {
   "cell_type": "code",
   "execution_count": 2,
   "id": "013d594c-3f23-4c80-b23b-2e989b74e186",
   "metadata": {},
   "outputs": [],
   "source": [
    "    \n",
    "# First creating a process to handle elevation changes (it makes sure fastscape updates topography at each time step, it is a convoluted logic inherited from fortran. Ignore.)\n",
    "@xs.process\n",
    "class Elevation(fst.processes.SurfaceTopography):\n",
    "    elevation = xs.variable(\n",
    "        dims=('y', 'x'),\n",
    "        intent='inout',\n",
    "        description='surface topography elevation'\n",
    "    )\n",
    "    \n",
    "    fs_context = xs.foreign(FastscapelibContext, 'context')\n",
    "    shape = xs.foreign(fst.processes.UniformRectilinearGrid2D, 'shape')\n",
    "    \n",
    "    def finalize_step(self):\n",
    "        \n",
    "        self.elevation = self.fs_context[\"h\"].reshape(self.shape)\n",
    "\n",
    "\n",
    "\n",
    "# This is the internal function actually calculating topography\n",
    "# Numba makes it fast\n",
    "# This is the internal function actually calculating topography\n",
    "# Numba makes it fast\n",
    "@nb.njit()\n",
    "def _snap2steadySF_(Z,stack,receivers, lengths,AQ,m,n,K,EU):\n",
    "    \"\"\"\n",
    "    Z -> vectorised elevation\n",
    "    stack -> Topological order from bottom to top (value = node ID)\n",
    "    receivers -> node ID to its steepest descent receiver\n",
    "    length -> distance to the receiver\n",
    "    AQ - > vectorised area/discharge\n",
    "    m -> m in SPL\n",
    "    n -> n in spl\n",
    "    K -> vectorised erodibility\n",
    "    EU -> European Union or Erosion/uplift (depending what you need)\n",
    "    \"\"\"\n",
    "    # Navigating stack from bottom to top\n",
    "    for node in stack:\n",
    "        # if the receiver is the node itself ignore (is base level by convention)\n",
    "        if(receivers[node] == node):\n",
    "            continue\n",
    "        #else apply Simon's formula (if you want to retrieve it it is actually S = ksn*A^theta solved in the SPL referential with forward difference)\n",
    "        divterm1 = (K[node] * math.pow(AQ[node], m))\n",
    "        if(divterm1 > 0):\n",
    "            powterm = math.pow( EU[node]/divterm1, 1/n) \n",
    "        else:\n",
    "            powterm = 0;\n",
    "        \n",
    "            \n",
    "        Z[node] = Z[receivers[node]] + lengths[node] * powterm\n",
    "\n",
    "\n",
    "# the process of snapping to steady state, only works with single flow\n",
    "@xs.process\n",
    "class Snap2SteadySF:\n",
    "    #Needed variables\n",
    "    m = xs.variable(\n",
    "        dims=(),\n",
    "        intent='inout',\n",
    "        description='m exp spl')\n",
    "    n = xs.variable(\n",
    "        dims=(),\n",
    "        intent='inout',\n",
    "        description='n exp spl')\n",
    "    K = xs.variable(\n",
    "        dims=('y','x'),\n",
    "        intent='inout',\n",
    "        description='Erodibility coefficient')\n",
    "    EU = xs.variable(\n",
    "        dims=('y','x'),\n",
    "        intent='inout',\n",
    "        description='Erosion/Uplift field to target')\n",
    "    \n",
    "    StStZ = xs.variable(\n",
    "        dims=('y','x'),\n",
    "        intent='out',\n",
    "        description='Erosion/Uplift field to target')\n",
    "    \n",
    "    # Foreign variables\n",
    "    ## Shape of the landscape in ny,nx\n",
    "    shape = xs.foreign(fst.processes.UniformRectilinearGrid2D, 'shape')\n",
    "    ## Access to fortran, ignore\n",
    "    fs_context = xs.foreign(FastscapelibContext, 'context')\n",
    "    ## Topological order bottom to top\n",
    "    stack = xs.foreign(fst.processes.FlowRouter, 'stack')\n",
    "    ## Receiver array nodeID -> receiver Node ID, only one cause SF\n",
    "    receivers = xs.foreign(fst.processes.FlowRouter, 'receivers')\n",
    "    ## length array nodeID -> legth to receiver Node ID\n",
    "    lengths = xs.foreign(fst.processes.FlowRouter, 'lengths')\n",
    "    ## Flow accumulator\n",
    "    flowacc = xs.foreign(fst.processes.FlowAccumulator, 'flowacc')\n",
    "        \n",
    "        #What happen at run time\n",
    "    def run_step(self):\n",
    "        # Getting the elevation from fortran\n",
    "        VZ = self.fs_context[\"h\"]\n",
    "        # Calling the numba function making sure we vectorise the thingies that need (.ravel())\n",
    "        _snap2steadySF_(VZ,self.stack,self.receivers, self.lengths,self.flowacc.ravel(),self.m,self.n,self.K.ravel(),self.EU.ravel())\n",
    "        # Back transmitting elev data\n",
    "        self.StStZ = VZ.reshape(self.shape)\n",
    "        self.fs_context[\"h\"] = VZ\n",
    "\n",
    "    \n",
    "    #DONE"
   ]
  },
  {
   "cell_type": "code",
   "execution_count": 3,
   "id": "80bcf164-e531-4a30-a8dc-6e910f78686d",
   "metadata": {},
   "outputs": [
    {
     "data": {
      "text/plain": [
       "<xsimlab.Model (14 processes, 10 inputs)>\n",
       "grid\n",
       "    shape         [in] ('shape_yx',) nb. of grid nodes in (y, x)\n",
       "    length        [in] ('shape_yx',) total grid length in (y, x)\n",
       "boundary\n",
       "    status        [in] () or ('border',) node status at borders\n",
       "fs_context\n",
       "tectonics\n",
       "surf2erode\n",
       "init_erosion\n",
       "flow\n",
       "precip\n",
       "    max_rain      [in] maximum rainfall value\n",
       "    min_rain      [in] minimum rainfall value\n",
       "drainage\n",
       "erosion\n",
       "vmotion\n",
       "topography\n",
       "    elevation  [inout] ('y', 'x') surface topography elevation\n",
       "terrain\n",
       "snast\n",
       "    m          [inout] m exp spl\n",
       "    n          [inout] n exp spl\n",
       "    K          [inout] ('y', 'x') Erodibility coefficient\n",
       "    EU         [inout] ('y', 'x') Erosion/Uplift field to target"
      ]
     },
     "execution_count": 3,
     "metadata": {},
     "output_type": "execute_result"
    }
   ],
   "source": [
    "#Creating a basic model removing channel/hillslope/uplift processes and adding the snapping\n",
    "model = fst.models.basic_model.drop_processes({\"spl\",\"diffusion\",\"uplift\", \"init_topography\"}).update_processes({\n",
    "    \"snast\": Snap2SteadySF,\n",
    "    \"topography\": Elevation,\n",
    "    'precip': constant_prec_fastscape_ext.Precipitation,\n",
    "    'drainage': constant_prec_fastscape_ext.DrainageDischarge,\n",
    "    \n",
    "})\n",
    "model"
   ]
  },
  {
   "cell_type": "markdown",
   "id": "7b1ffc11-22bc-4299-b6b1-6d886fe8afff",
   "metadata": {},
   "source": [
    "## Theta scenarios\n",
    "Run for theta = 0.35 and 0.55\n"
   ]
  },
  {
   "cell_type": "code",
   "execution_count": 5,
   "id": "5222ad02-e5f8-4596-9fc4-8dbbac16bba2",
   "metadata": {},
   "outputs": [],
   "source": [
    "nit = np.arange(500)\n",
    "## Outputs every XX SHOULD BE 10\n",
    "nout = nit[::10]\n",
    "\n",
    "px_res = 30. # pixel resolution in meters\n",
    "# length of the grid in meters - 15 x 30 km\n",
    "Lx = 1.5e4 \n",
    "Ly = 3e4\n",
    "# Model dimensions\n",
    "nx = int(Lx/px_res)\n",
    "ny = int(Ly/px_res)"
   ]
  },
  {
   "cell_type": "code",
   "execution_count": 6,
   "id": "e367953d-b013-45f2-a289-3605ce1e2ccb",
   "metadata": {},
   "outputs": [],
   "source": [
    "#Erodibility from paper Bernard et al., 2021\n",
    "def striped_lithology(nx, ny):\n",
    "    soft_rock_K = 1e-7 # sedimentary\n",
    "    hard_rock_K = 5e-8 # crystalline\n",
    "    K = np.zeros((ny,nx))\n",
    "    K[:int(ny), int(nx/4):int(nx - (nx/4))] = hard_rock_K\n",
    "    K[:int(ny), :int(nx/4)] = soft_rock_K\n",
    "    K[:int(ny), int(nx - (nx/4)):] = soft_rock_K\n",
    "    return K\n"
   ]
  },
  {
   "cell_type": "markdown",
   "id": "10b57dab-2d90-4db4-a034-a846d83f765c",
   "metadata": {},
   "source": [
    "### Lithology blobs"
   ]
  },
  {
   "cell_type": "code",
   "execution_count": 7,
   "id": "3a6983df-5478-4aae-b81c-c432af78188a",
   "metadata": {},
   "outputs": [],
   "source": [
    "def blob_lithology(nx, ny):\n",
    "    K = DS.diamond_square(shape=(ny,nx), \n",
    "                             min_height=5e-8, \n",
    "                             max_height=1e-7,\n",
    "                             roughness=0.7, random_seed = 420)\n",
    "    return K"
   ]
  },
  {
   "cell_type": "code",
   "execution_count": 8,
   "id": "2c5af553-5af0-42e2-8f69-565f4328166e",
   "metadata": {},
   "outputs": [],
   "source": [
    "from perlin_noise import PerlinNoise\n",
    "def dense_blob_lithology(nx, ny):    \n",
    "    noise = PerlinNoise(octaves=7, seed=420)\n",
    "    pic = [[noise([i/nx, j/ny]) for j in range(nx)] for i in range(ny)]\n",
    "    K = np.array(pic)\n",
    "    map_K_arr = (K - K.min()) / (K.max() - K.min())\n",
    "    map_K_arr = (map_K_arr + 1)*(5e-8)\n",
    "\n",
    "    return map_K_arr\n",
    "\n",
    "def homogeneous_lithology(nx, ny):\n",
    "    # base lithology\n",
    "    base_litho = 5.4e-8\n",
    "    K = np.zeros((ny,nx))\n",
    "    K[:,:] = base_litho\n",
    "    \n",
    "    return K"
   ]
  },
  {
   "cell_type": "code",
   "execution_count": 29,
   "id": "6e19ddac-0596-436e-bd8a-a20502b3055a",
   "metadata": {},
   "outputs": [],
   "source": [
    "# %create_setup model\n",
    "# import xsimlab as xs\n",
    "\n",
    "# General params\n",
    "## number of iterations\n",
    "nit = np.arange(500)\n",
    "## Outputs every XX SHOULD BE 10\n",
    "nout = nit[::10]\n",
    "\n",
    "px_res = 30. # pixel resolution in meters\n",
    "# length of the grid in meters - 15 x 30 km\n",
    "Lx = 1.5e4 \n",
    "Ly = 3e4\n",
    "# Model dimensions\n",
    "nx = int(Lx/px_res)\n",
    "ny = int(Ly/px_res)\n",
    "\n",
    "#make a height map of size nx x ny, with values ranging from 1 to 100, with moderate roughness\n",
    "diamond = DS.diamond_square(shape=(ny,nx), \n",
    "                         min_height=0, \n",
    "                         max_height=1,\n",
    "                         roughness=0.75, random_seed = 420)\n",
    "\n",
    "\n",
    "#Uplift\n",
    "EU = np.zeros((ny,nx))+1e-5\n",
    "#The model\n",
    "ds_in = xs.create_setup(\n",
    "    model=model,\n",
    "    clocks={\n",
    "        \"n_iterations\": nit,\n",
    "        \"out\": nout\n",
    "    },\n",
    "    master_clock='n_iterations',\n",
    "    input_vars={\n",
    "        'grid__shape': [ny,nx],\n",
    "        'grid__length': [Ly,Lx],\n",
    "        'boundary__status': [\"fixed_value\", 'fixed_value', 'looped', 'looped'],\n",
    "        'topography__elevation': diamond,\n",
    "        'snast__m': 0.45,\n",
    "        'snast__n': 1,\n",
    "        'snast__K': litho_diamond, #K,\n",
    "        'snast__EU': EU,\n",
    "        'precip': {\n",
    "            'max_rain' : 5.,\n",
    "            'min_rain' : 1.\n",
    "        }\n",
    "        \n",
    "    },\n",
    "    \n",
    "    output_vars={\n",
    "        'snast__StStZ': 'out',\n",
    "        'drainage__flowacc': 'out',\n",
    "        'precip__precip_rate': 'out'\n",
    "    }\n",
    ")\n"
   ]
  },
  {
   "cell_type": "code",
   "execution_count": 30,
   "id": "c24c2c48-c509-4e05-bcf9-3732d39ca2ff",
   "metadata": {},
   "outputs": [],
   "source": [
    "grad_number = 4\n",
    "file_path = '/exports/csce/datastore/geos/users/s1440040/projects/phd-fastscape/phd-fastscape/precipitation_analysis/models/'\n"
   ]
  },
  {
   "cell_type": "code",
   "execution_count": 31,
   "id": "de216bc1-ed4f-41e6-bfa1-048b07ba6689",
   "metadata": {},
   "outputs": [
    {
     "data": {
      "application/vnd.jupyter.widget-view+json": {
       "model_id": "1b5e5f86ef6a444dbd16efb240a97e41",
       "version_major": 2,
       "version_minor": 0
      },
      "text/plain": [
       "             0% | initialize "
      ]
     },
     "metadata": {},
     "output_type": "display_data"
    }
   ],
   "source": [
    "#Running it\n",
    "zg = zarr.group(f\"{file_path}snap2steady_diamond_lithologies_discharge_grad_{grad_number}.zarr\", overwrite=True)\n",
    "with model,xs.monitoring.ProgressBar():\n",
    "    out_ds = ds_in.xsimlab.run(store = zg)"
   ]
  },
  {
   "cell_type": "markdown",
   "id": "e1e2387f-cedb-45fb-bed2-a5e121a5856c",
   "metadata": {},
   "source": [
    "# Automate running and saving the model outputs"
   ]
  },
  {
   "cell_type": "code",
   "execution_count": 11,
   "id": "6da710d6-c9dc-45a7-aa23-3222a77223f6",
   "metadata": {},
   "outputs": [
    {
     "name": "stdout",
     "output_type": "stream",
     "text": [
      "Hi from homogeneous lithology\n",
      "K case: homogeneous_lithology, gradient: 0\n"
     ]
    },
    {
     "data": {
      "application/vnd.jupyter.widget-view+json": {
       "model_id": "2dbdc737035242fb9fd2623e18e53324",
       "version_major": 2,
       "version_minor": 0
      },
      "text/plain": [
       "             0% | initialize "
      ]
     },
     "metadata": {},
     "output_type": "display_data"
    },
    {
     "name": "stdout",
     "output_type": "stream",
     "text": [
      "K case: homogeneous_lithology, gradient: 1\n"
     ]
    },
    {
     "data": {
      "application/vnd.jupyter.widget-view+json": {
       "model_id": "c47b4a64310548eb8fefa316d69217ee",
       "version_major": 2,
       "version_minor": 0
      },
      "text/plain": [
       "             0% | initialize "
      ]
     },
     "metadata": {},
     "output_type": "display_data"
    },
    {
     "name": "stdout",
     "output_type": "stream",
     "text": [
      "K case: homogeneous_lithology, gradient: 2\n"
     ]
    },
    {
     "data": {
      "application/vnd.jupyter.widget-view+json": {
       "model_id": "27211811ba8e4010979e5a4c31ed7fb9",
       "version_major": 2,
       "version_minor": 0
      },
      "text/plain": [
       "             0% | initialize "
      ]
     },
     "metadata": {},
     "output_type": "display_data"
    },
    {
     "name": "stdout",
     "output_type": "stream",
     "text": [
      "K case: homogeneous_lithology, gradient: 3\n"
     ]
    },
    {
     "data": {
      "application/vnd.jupyter.widget-view+json": {
       "model_id": "a3482aed22ff4d83b5f0cdc6e02d1601",
       "version_major": 2,
       "version_minor": 0
      },
      "text/plain": [
       "             0% | initialize "
      ]
     },
     "metadata": {},
     "output_type": "display_data"
    },
    {
     "name": "stdout",
     "output_type": "stream",
     "text": [
      "K case: homogeneous_lithology, gradient: 4\n"
     ]
    },
    {
     "data": {
      "application/vnd.jupyter.widget-view+json": {
       "model_id": "d96c8e5034c64ad588b3161b623b66b0",
       "version_major": 2,
       "version_minor": 0
      },
      "text/plain": [
       "             0% | initialize "
      ]
     },
     "metadata": {},
     "output_type": "display_data"
    },
    {
     "name": "stdout",
     "output_type": "stream",
     "text": [
      "K case: homogeneous_lithology, gradient: 5\n"
     ]
    },
    {
     "data": {
      "application/vnd.jupyter.widget-view+json": {
       "model_id": "5bf7e2bf6038404aac2df79a8aa9c96c",
       "version_major": 2,
       "version_minor": 0
      },
      "text/plain": [
       "             0% | initialize "
      ]
     },
     "metadata": {},
     "output_type": "display_data"
    },
    {
     "name": "stdout",
     "output_type": "stream",
     "text": [
      "K case: homogeneous_lithology, gradient: 6\n"
     ]
    },
    {
     "data": {
      "application/vnd.jupyter.widget-view+json": {
       "model_id": "2910f03ab12941e4a870ee602d64e229",
       "version_major": 2,
       "version_minor": 0
      },
      "text/plain": [
       "             0% | initialize "
      ]
     },
     "metadata": {},
     "output_type": "display_data"
    },
    {
     "name": "stdout",
     "output_type": "stream",
     "text": [
      "K case: homogeneous_lithology, gradient: 7\n"
     ]
    },
    {
     "data": {
      "application/vnd.jupyter.widget-view+json": {
       "model_id": "4dff98aba43a45edbb3fdcd3bdf6dd5b",
       "version_major": 2,
       "version_minor": 0
      },
      "text/plain": [
       "             0% | initialize "
      ]
     },
     "metadata": {},
     "output_type": "display_data"
    },
    {
     "name": "stdout",
     "output_type": "stream",
     "text": [
      "K case: homogeneous_lithology, gradient: 8\n"
     ]
    },
    {
     "data": {
      "application/vnd.jupyter.widget-view+json": {
       "model_id": "98dae26e76054c7ea4cdf4a0e9ca0634",
       "version_major": 2,
       "version_minor": 0
      },
      "text/plain": [
       "             0% | initialize "
      ]
     },
     "metadata": {},
     "output_type": "display_data"
    },
    {
     "name": "stdout",
     "output_type": "stream",
     "text": [
      "K case: homogeneous_lithology, gradient: 9\n"
     ]
    },
    {
     "data": {
      "application/vnd.jupyter.widget-view+json": {
       "model_id": "6d928d1ac4404e2eb421369aa62540e6",
       "version_major": 2,
       "version_minor": 0
      },
      "text/plain": [
       "             0% | initialize "
      ]
     },
     "metadata": {},
     "output_type": "display_data"
    },
    {
     "name": "stdout",
     "output_type": "stream",
     "text": [
      "K case: homogeneous_lithology, gradient: 10\n"
     ]
    },
    {
     "data": {
      "application/vnd.jupyter.widget-view+json": {
       "model_id": "06e9052b7a034b1b9002a9b26d6c5f9c",
       "version_major": 2,
       "version_minor": 0
      },
      "text/plain": [
       "             0% | initialize "
      ]
     },
     "metadata": {},
     "output_type": "display_data"
    },
    {
     "name": "stdout",
     "output_type": "stream",
     "text": [
      "Hi from homogeneous lithology\n",
      "K case: homogeneous_lithology, gradient: 0\n"
     ]
    },
    {
     "data": {
      "application/vnd.jupyter.widget-view+json": {
       "model_id": "ac8f79d883434cf48ee652ea8a90a41d",
       "version_major": 2,
       "version_minor": 0
      },
      "text/plain": [
       "             0% | initialize "
      ]
     },
     "metadata": {},
     "output_type": "display_data"
    },
    {
     "name": "stdout",
     "output_type": "stream",
     "text": [
      "K case: homogeneous_lithology, gradient: 1\n"
     ]
    },
    {
     "data": {
      "application/vnd.jupyter.widget-view+json": {
       "model_id": "ec2fe51d7c9c4d749fb8bab397a2d6a7",
       "version_major": 2,
       "version_minor": 0
      },
      "text/plain": [
       "             0% | initialize "
      ]
     },
     "metadata": {},
     "output_type": "display_data"
    },
    {
     "name": "stdout",
     "output_type": "stream",
     "text": [
      "K case: homogeneous_lithology, gradient: 2\n"
     ]
    },
    {
     "data": {
      "application/vnd.jupyter.widget-view+json": {
       "model_id": "d2698a2cadc34085be3ca29d18a7ee23",
       "version_major": 2,
       "version_minor": 0
      },
      "text/plain": [
       "             0% | initialize "
      ]
     },
     "metadata": {},
     "output_type": "display_data"
    },
    {
     "name": "stdout",
     "output_type": "stream",
     "text": [
      "K case: homogeneous_lithology, gradient: 3\n"
     ]
    },
    {
     "data": {
      "application/vnd.jupyter.widget-view+json": {
       "model_id": "9410bc6068e04fc8b4ec318ec52fe9db",
       "version_major": 2,
       "version_minor": 0
      },
      "text/plain": [
       "             0% | initialize "
      ]
     },
     "metadata": {},
     "output_type": "display_data"
    },
    {
     "name": "stdout",
     "output_type": "stream",
     "text": [
      "K case: homogeneous_lithology, gradient: 4\n"
     ]
    },
    {
     "data": {
      "application/vnd.jupyter.widget-view+json": {
       "model_id": "4d7e0d91785d407a9d2300ed586e3889",
       "version_major": 2,
       "version_minor": 0
      },
      "text/plain": [
       "             0% | initialize "
      ]
     },
     "metadata": {},
     "output_type": "display_data"
    },
    {
     "name": "stdout",
     "output_type": "stream",
     "text": [
      "K case: homogeneous_lithology, gradient: 5\n"
     ]
    },
    {
     "data": {
      "application/vnd.jupyter.widget-view+json": {
       "model_id": "1b136962ece54d11b3151d0232ed17cd",
       "version_major": 2,
       "version_minor": 0
      },
      "text/plain": [
       "             0% | initialize "
      ]
     },
     "metadata": {},
     "output_type": "display_data"
    },
    {
     "name": "stdout",
     "output_type": "stream",
     "text": [
      "K case: homogeneous_lithology, gradient: 6\n"
     ]
    },
    {
     "data": {
      "application/vnd.jupyter.widget-view+json": {
       "model_id": "0ecf495be15c4501b87c83ffa7eab4f6",
       "version_major": 2,
       "version_minor": 0
      },
      "text/plain": [
       "             0% | initialize "
      ]
     },
     "metadata": {},
     "output_type": "display_data"
    },
    {
     "name": "stdout",
     "output_type": "stream",
     "text": [
      "K case: homogeneous_lithology, gradient: 7\n"
     ]
    },
    {
     "data": {
      "application/vnd.jupyter.widget-view+json": {
       "model_id": "b3c58240dafe450bafcb667883d7709e",
       "version_major": 2,
       "version_minor": 0
      },
      "text/plain": [
       "             0% | initialize "
      ]
     },
     "metadata": {},
     "output_type": "display_data"
    },
    {
     "name": "stdout",
     "output_type": "stream",
     "text": [
      "K case: homogeneous_lithology, gradient: 8\n"
     ]
    },
    {
     "data": {
      "application/vnd.jupyter.widget-view+json": {
       "model_id": "19e3e5b2161d438caa04e3793fd3ef49",
       "version_major": 2,
       "version_minor": 0
      },
      "text/plain": [
       "             0% | initialize "
      ]
     },
     "metadata": {},
     "output_type": "display_data"
    },
    {
     "name": "stdout",
     "output_type": "stream",
     "text": [
      "K case: homogeneous_lithology, gradient: 9\n"
     ]
    },
    {
     "data": {
      "application/vnd.jupyter.widget-view+json": {
       "model_id": "8be82689d1294bba9d2c6ae6f5137c6b",
       "version_major": 2,
       "version_minor": 0
      },
      "text/plain": [
       "             0% | initialize "
      ]
     },
     "metadata": {},
     "output_type": "display_data"
    },
    {
     "name": "stdout",
     "output_type": "stream",
     "text": [
      "K case: homogeneous_lithology, gradient: 10\n"
     ]
    },
    {
     "data": {
      "application/vnd.jupyter.widget-view+json": {
       "model_id": "597b9faada0a4d7b836e9fd7a25cc1b2",
       "version_major": 2,
       "version_minor": 0
      },
      "text/plain": [
       "             0% | initialize "
      ]
     },
     "metadata": {},
     "output_type": "display_data"
    }
   ],
   "source": [
    "# Automate the snapping to steady state\n",
    "# %create_setup model\n",
    "# import xsimlab as xs\n",
    "file_path = '/exports/csce/datastore/geos/users/s1440040/projects/phd-fastscape/phd-fastscape/precipitation_analysis/models/'\n",
    "\n",
    "# General params\n",
    "## number of iterations\n",
    "nit = np.arange(500)\n",
    "## Outputs every XX SHOULD BE 10\n",
    "nout = nit[::10]\n",
    "\n",
    "px_res = 30. # pixel resolution in meters\n",
    "# length of the grid in meters - 15 x 30 km\n",
    "Lx = 1.5e4 \n",
    "Ly = 3e4\n",
    "# Model dimensions\n",
    "nx = int(Lx/px_res)\n",
    "ny = int(Ly/px_res)\n",
    "\n",
    "#make a height map of size nx x ny, with values ranging from 1 to 100, with moderate roughness\n",
    "diamond = DS.diamond_square(shape=(ny,nx), \n",
    "                         min_height=0, \n",
    "                         max_height=1,\n",
    "                         roughness=0.75, random_seed = 420)\n",
    "\n",
    "\n",
    "#Uplift\n",
    "EU = np.zeros((ny,nx))+1e-5\n",
    "#The model\n",
    "K_cases = ['homogeneous_lithology']#['striped_lithology', 'blob_lithology']\n",
    "theta_values = [0.35, 0.55]\n",
    "\n",
    "rain_gradients = [0,1,2,3,4,5,6,7,8,9,10]\n",
    "\n",
    "for theta_val in theta_values:\n",
    "    for i in range(len(K_cases)):\n",
    "        if K_cases[i] == 'striped_lithology':\n",
    "            print('Hi from striped lithology')\n",
    "            K = striped_lithology(nx, ny)\n",
    "        elif K_cases[i] == 'dense_blob_lithology':\n",
    "            print('Hi from dense blob lithology')\n",
    "            K = dense_blob_lithology(nx, ny)\n",
    "        elif K_cases[i] == 'blob_lithology':\n",
    "            print('Hi from blob lithology')\n",
    "            K = blob_lithology(nx, ny)\n",
    "        else:\n",
    "            print('Hi from homogeneous lithology')\n",
    "            K = homogeneous_lithology(nx, ny)\n",
    "        for grad in rain_gradients:\n",
    "            print(f'K case: {K_cases[i]}, gradient: {grad}')\n",
    "            ds_in = xs.create_setup(\n",
    "                model=model,\n",
    "                clocks={\n",
    "                    \"n_iterations\": nit,\n",
    "                    \"out\": nout\n",
    "                },\n",
    "                master_clock='n_iterations',\n",
    "                input_vars={\n",
    "                    'grid__shape': [ny,nx],\n",
    "                    'grid__length': [Ly,Lx],\n",
    "                    'boundary__status': [\"fixed_value\", 'fixed_value', 'looped', 'looped'],\n",
    "                    'topography__elevation': diamond,\n",
    "                    'snast__m': theta_val,\n",
    "                    'snast__n': 1,\n",
    "                    'snast__K': K, #K,\n",
    "                    'snast__EU': EU,\n",
    "                    'precip': {\n",
    "                        'max_rain' : grad + 1.,\n",
    "                        'min_rain' : 1.\n",
    "                    }\n",
    "\n",
    "                },\n",
    "\n",
    "                output_vars={\n",
    "                    'snast__StStZ': 'out',\n",
    "                    'drainage__flowacc': 'out',\n",
    "                    'precip__precip_rate': 'out'\n",
    "                }\n",
    "            )\n",
    "            #Running it\n",
    "            zg = zarr.group(f\"{file_path}snap2steady_discharge_grad_{grad}_theta_{theta_val}.zarr\", overwrite=True)\n",
    "            with model,xs.monitoring.ProgressBar():\n",
    "                out_ds = ds_in.xsimlab.run(store = zg)\n",
    "\n",
    "            lsd.raster_loader.save_raster(\n",
    "            out_ds[\"snast__StStZ\"].isel({\"out\": -1}).values[::-1], # if you want to invert the model but keep the dimensions you can also cal that line\n",
    "            x_min = 0,\n",
    "            x_max = Lx,\n",
    "            y_min = Ly, # alternatively you can inverse the two\n",
    "            y_max = 0, # alternatively you can inverse the two\n",
    "            res = px_res,\n",
    "            crs = \"EPSG:32635\",\n",
    "            fname = f\"{file_path}snap2steady_discharge_grad_{grad}_theta_{theta_val}.tif\")\n",
    "\n"
   ]
  },
  {
   "cell_type": "markdown",
   "id": "e9dd933c-5cc7-4715-ad65-eddb88d3846f",
   "metadata": {},
   "source": [
    "# Save the output as an lsdtt object"
   ]
  },
  {
   "cell_type": "code",
   "execution_count": 32,
   "id": "bd0aa1df-54ad-4d0b-97be-1bc29d5528b8",
   "metadata": {},
   "outputs": [],
   "source": [
    "\n",
    "import lsdtopytools as lsd\n",
    "\n",
    "lsd.raster_loader.save_raster(\n",
    "#     out_ds[\"topography__elevation\"].isel({\"out\": -1}).values, # The raster as the last output from the model\n",
    "    out_ds[\"snast__StStZ\"].isel({\"out\": -1}).values[::-1], # if you want to invert the model but keep the dimensions you can also cal that line\n",
    "    x_min = 0,\n",
    "    x_max = Lx,\n",
    "    y_min = Ly, # alternatively you can inverse the two\n",
    "    y_max = 0, # alternatively you can inverse the two\n",
    "    res = px_res,\n",
    "    crs = \"EPSG:32635\",\n",
    "    fname = f\"{file_path}snap2steady_diamond_lithologies_discharge_grad_{grad_number}.tif\"\n",
    ")"
   ]
  },
  {
   "cell_type": "code",
   "execution_count": 33,
   "id": "4e3ac6db-ae62-4fca-bbfa-75ff487030bc",
   "metadata": {},
   "outputs": [],
   "source": [
    "# Save also the rainfall raster\n",
    "lsd.raster_loader.save_raster(\n",
    "#     out_ds[\"topography__elevation\"].isel({\"out\": -1}).values, # The raster as the last output from the model\n",
    "    out_ds[\"precip__precip_rate\"].isel({\"out\": -1}).values[::-1], # if you want to invert the model but keep the dimensions you can also cal that line\n",
    "    x_min = 0,\n",
    "    x_max = Lx,\n",
    "    y_min = Ly, # alternatively you can inverse the two\n",
    "    y_max = 0, # alternatively you can inverse the two\n",
    "    res = px_res,\n",
    "    crs = \"EPSG:32635\",\n",
    "    fname = f\"{file_path}precip_snap2steady_diamond_lithologies_discharge_grad_{grad_number}.tif\"\n",
    ")"
   ]
  },
  {
   "cell_type": "markdown",
   "id": "3f666e31-3a72-45c9-b887-36776b9e54eb",
   "metadata": {},
   "source": [
    "# Visualise the result"
   ]
  },
  {
   "cell_type": "code",
   "execution_count": 12,
   "id": "717bc9ed-84d8-41ad-8ccb-9e54450ed014",
   "metadata": {},
   "outputs": [
    {
     "data": {
      "application/vnd.jupyter.widget-view+json": {
       "model_id": "430c8dda11714b11ad935ff2c331c6c2",
       "version_major": 2,
       "version_minor": 0
      },
      "text/plain": [
       "Output(layout=Layout(height='640px'))"
      ]
     },
     "metadata": {},
     "output_type": "display_data"
    }
   ],
   "source": [
    "from ipyfastscape import TopoViz3d\n",
    "\n",
    "\n",
    "app = TopoViz3d(out_ds, canvas_height=600, time_dim=\"out\",elevation_var = \"snast__StStZ\" )\n",
    "\n",
    "app.show()"
   ]
  },
  {
   "cell_type": "code",
   "execution_count": null,
   "id": "5a43d496-9fec-43e9-9fd8-aee36fcff68f",
   "metadata": {},
   "outputs": [],
   "source": []
  }
 ],
 "metadata": {
  "kernelspec": {
   "display_name": "Python 3",
   "language": "python",
   "name": "python3"
  },
  "language_info": {
   "codemirror_mode": {
    "name": "ipython",
    "version": 3
   },
   "file_extension": ".py",
   "mimetype": "text/x-python",
   "name": "python",
   "nbconvert_exporter": "python",
   "pygments_lexer": "ipython3",
   "version": "3.8.10"
  }
 },
 "nbformat": 4,
 "nbformat_minor": 5
}
