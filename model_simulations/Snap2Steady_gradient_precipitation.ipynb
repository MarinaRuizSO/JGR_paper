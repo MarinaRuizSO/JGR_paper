{
 "cells": [
  {
   "cell_type": "markdown",
   "id": "633388e8-9420-40d2-9d94-1434264141a4",
   "metadata": {},
   "source": [
    "# Snapping the landscape to Steady State - and adjust K value for relief \n",
    "\n",
    "## Generate **linear** precipitation scenarios"
   ]
  },
  {
   "cell_type": "code",
   "execution_count": 1,
   "id": "b51d95c1-9ec2-4f1c-9007-ba4e0d3a65e5",
   "metadata": {},
   "outputs": [],
   "source": [
    "# Importing what I need, they are all installable from conda in case you miss one of them\n",
    "import numpy as np\n",
    "import xarray as xr\n",
    "import xsimlab as xs\n",
    "import fastscape as fst\n",
    "from fastscape.processes.context import FastscapelibContext\n",
    "import numba as nb\n",
    "import math\n",
    "import zarr\n",
    "import itertools\n",
    "# Ignore that last\n",
    "# %load_ext xsimlab.ipython\n",
    "#import constant_prec_fastscape_ext\n",
    "from hkb_diamondsquare import DiamondSquare as DS\n",
    "\n",
    "\n",
    "import constant_prec_fastscape_ext \n",
    "import constant_precipitation\n",
    "from fastscape.processes.grid import UniformRectilinearGrid2D"
   ]
  },
  {
   "cell_type": "markdown",
   "id": "e663f676-bffc-49fb-a387-12dfc72c9bf1",
   "metadata": {},
   "source": [
    "## Snapping the landscape to steady state"
   ]
  },
  {
   "cell_type": "code",
   "execution_count": 2,
   "id": "013d594c-3f23-4c80-b23b-2e989b74e186",
   "metadata": {},
   "outputs": [],
   "source": [
    "    \n",
    "# First creating a process to handle elevation changes (it makes sure fastscape updates topography at each time step, it is a convoluted logic inherited from fortran. Ignore.)\n",
    "@xs.process\n",
    "class Elevation(fst.processes.SurfaceTopography):\n",
    "    elevation = xs.variable(\n",
    "        dims=('y', 'x'),\n",
    "        intent='inout',\n",
    "        description='surface topography elevation'\n",
    "    )\n",
    "    \n",
    "    fs_context = xs.foreign(FastscapelibContext, 'context')\n",
    "    shape = xs.foreign(fst.processes.UniformRectilinearGrid2D, 'shape')\n",
    "    \n",
    "    def finalize_step(self):\n",
    "        \n",
    "        self.elevation = self.fs_context[\"h\"].reshape(self.shape)\n",
    "\n",
    "\n",
    "\n",
    "# This is the internal function actually calculating topography\n",
    "# Numba makes it fast\n",
    "# This is the internal function actually calculating topography\n",
    "# Numba makes it fast\n",
    "@nb.njit()\n",
    "def _snap2steadySF_(Z,stack,receivers, lengths,AQ,m,n,K,EU):\n",
    "    \"\"\"\n",
    "    Z -> vectorised elevation\n",
    "    stack -> Topological order from bottom to top (value = node ID)\n",
    "    receivers -> node ID to its steepest descent receiver\n",
    "    length -> distance to the receiver\n",
    "    AQ - > vectorised area/discharge\n",
    "    m -> m in SPL\n",
    "    n -> n in spl\n",
    "    K -> vectorised erodibility\n",
    "    EU -> European Union or Erosion/uplift (depending what you need)\n",
    "    \"\"\"\n",
    "    # Navigating stack from bottom to top\n",
    "    for node in stack:\n",
    "        # if the receiver is the node itself ignore (is base level by convention)\n",
    "        if(receivers[node] == node):\n",
    "            continue\n",
    "        #else apply Simon's formula (if you want to retrieve it it is actually S = ksn*A^theta solved in the SPL referential with forward difference)\n",
    "        divterm1 = (K[node] * math.pow(AQ[node], m))\n",
    "        if(divterm1 > 0):\n",
    "            powterm = math.pow( EU[node]/divterm1, 1/n) \n",
    "        else:\n",
    "            powterm = 0;\n",
    "        \n",
    "            \n",
    "        Z[node] = Z[receivers[node]] + lengths[node] * powterm\n",
    "\n",
    "\n",
    "# the process of snapping to steady state, only works with single flow\n",
    "@xs.process\n",
    "class Snap2SteadySF:\n",
    "    #Needed variables\n",
    "    m = xs.variable(\n",
    "        dims=(),\n",
    "        intent='inout',\n",
    "        description='m exp spl')\n",
    "    n = xs.variable(\n",
    "        dims=(),\n",
    "        intent='inout',\n",
    "        description='n exp spl')\n",
    "    K = xs.variable(\n",
    "        dims=('y','x'),\n",
    "        intent='inout',\n",
    "        description='Erodibility coefficient')\n",
    "    EU = xs.variable(\n",
    "        dims=('y','x'),\n",
    "        intent='inout',\n",
    "        description='Erosion/Uplift field to target')\n",
    "    \n",
    "    StStZ = xs.variable(\n",
    "        dims=('y','x'),\n",
    "        intent='out',\n",
    "        description='Erosion/Uplift field to target')\n",
    "    \n",
    "    # Foreign variables\n",
    "    ## Shape of the landscape in ny,nx\n",
    "    shape = xs.foreign(fst.processes.UniformRectilinearGrid2D, 'shape')\n",
    "    ## Access to fortran, ignore\n",
    "    fs_context = xs.foreign(FastscapelibContext, 'context')\n",
    "    ## Topological order bottom to top\n",
    "    stack = xs.foreign(fst.processes.FlowRouter, 'stack')\n",
    "    ## Receiver array nodeID -> receiver Node ID, only one cause SF\n",
    "    receivers = xs.foreign(fst.processes.FlowRouter, 'receivers')\n",
    "    ## length array nodeID -> legth to receiver Node ID\n",
    "    lengths = xs.foreign(fst.processes.FlowRouter, 'lengths')\n",
    "    ## Flow accumulator\n",
    "    flowacc = xs.foreign(fst.processes.FlowAccumulator, 'flowacc')\n",
    "        \n",
    "        #What happen at run time\n",
    "    def run_step(self):\n",
    "        # Getting the elevation from fortran\n",
    "        VZ = self.fs_context[\"h\"]\n",
    "        # Calling the numba function making sure we vectorise the thingies that need (.ravel())\n",
    "        _snap2steadySF_(VZ,self.stack,self.receivers, self.lengths,self.flowacc.ravel(),self.m,self.n,self.K.ravel(),self.EU.ravel())\n",
    "        # Back transmitting elev data\n",
    "        self.StStZ = VZ.reshape(self.shape)\n",
    "        self.fs_context[\"h\"] = VZ\n",
    "\n",
    "    \n",
    "    #DONE"
   ]
  },
  {
   "cell_type": "code",
   "execution_count": 3,
   "id": "80bcf164-e531-4a30-a8dc-6e910f78686d",
   "metadata": {},
   "outputs": [
    {
     "data": {
      "text/plain": [
       "<xsimlab.Model (14 processes, 10 inputs)>\n",
       "grid\n",
       "    shape         [in] ('shape_yx',) nb. of grid nodes in (y, x)\n",
       "    length        [in] ('shape_yx',) total grid length in (y, x)\n",
       "boundary\n",
       "    status        [in] () or ('border',) node status at borders\n",
       "fs_context\n",
       "tectonics\n",
       "surf2erode\n",
       "init_erosion\n",
       "flow\n",
       "precip\n",
       "    max_rain      [in] maximum rainfall value\n",
       "    min_rain      [in] minimum rainfall value\n",
       "drainage\n",
       "erosion\n",
       "vmotion\n",
       "topography\n",
       "    elevation  [inout] ('y', 'x') surface topography elevation\n",
       "terrain\n",
       "snast\n",
       "    m          [inout] m exp spl\n",
       "    n          [inout] n exp spl\n",
       "    K          [inout] ('y', 'x') Erodibility coefficient\n",
       "    EU         [inout] ('y', 'x') Erosion/Uplift field to target"
      ]
     },
     "execution_count": 3,
     "metadata": {},
     "output_type": "execute_result"
    }
   ],
   "source": [
    "#Creating a basic model removing channel/hillslope/uplift processes and adding the snapping\n",
    "model = fst.models.basic_model.drop_processes({\"spl\",\"diffusion\",\"uplift\", \"init_topography\"}).update_processes({\n",
    "    \"snast\": Snap2SteadySF,\n",
    "    \"topography\": Elevation,\n",
    "    'precip': constant_prec_fastscape_ext.Precipitation,\n",
    "    'drainage': constant_prec_fastscape_ext.DrainageDischarge,\n",
    "    \n",
    "})\n",
    "model"
   ]
  },
  {
   "cell_type": "code",
   "execution_count": 87,
   "id": "6e19ddac-0596-436e-bd8a-a20502b3055a",
   "metadata": {},
   "outputs": [],
   "source": [
    "# %create_setup model\n",
    "# import xsimlab as xs\n",
    "\n",
    "# General params\n",
    "## number of iterations\n",
    "nit = np.arange(500)\n",
    "## Outputs every XX SHOULD BE 10\n",
    "nout = nit[::10]\n",
    "\n",
    "px_res = 30. # pixel resolution in meters\n",
    "# length of the grid in meters - 15 x 30 km\n",
    "Lx = 1.5e4 \n",
    "Ly = 3e4\n",
    "# Model dimensions\n",
    "nx = int(Lx/px_res)\n",
    "ny = int(Ly/px_res)\n",
    "\n",
    "#make a height map of size nx x ny, with values ranging from 1 to 100, with moderate roughness\n",
    "diamond = DS.diamond_square(shape=(ny,nx), \n",
    "                         min_height=0, \n",
    "                         max_height=1,\n",
    "                         roughness=0.75, random_seed = 420)\n",
    "\n",
    "#Erodibility\n",
    "K = np.zeros((ny,nx))+3e-8\n",
    "#Uplift\n",
    "EU = np.zeros((ny,nx))+1e-5\n",
    "#The model\n",
    "ds_in = xs.create_setup(\n",
    "    model=model,\n",
    "    clocks={\n",
    "        \"n_iterations\": nit,\n",
    "        \"out\": nout\n",
    "    },\n",
    "    master_clock='n_iterations',\n",
    "    input_vars={\n",
    "        'grid__shape': [ny,nx],\n",
    "        'grid__length': [Ly,Lx],\n",
    "        'boundary__status': [\"fixed_value\", 'fixed_value', 'looped', 'looped'],\n",
    "        'topography__elevation': diamond,\n",
    "        'snast__m': 0.45,\n",
    "        'snast__n': 1,\n",
    "        'snast__K': K,\n",
    "        'snast__EU': EU,\n",
    "        'precip': {\n",
    "            'max_rain' : 3,\n",
    "            'min_rain' : 1\n",
    "        }\n",
    "        \n",
    "    },\n",
    "    \n",
    "    output_vars={\n",
    "        'snast__StStZ': 'out',\n",
    "        'drainage__flowacc': 'out',\n",
    "        'precip__precip_rate': 'out'\n",
    "    }\n",
    ")\n"
   ]
  },
  {
   "cell_type": "code",
   "execution_count": 88,
   "id": "fb404171-1102-4f48-8533-fc54eb5e2c74",
   "metadata": {},
   "outputs": [],
   "source": [
    "grad_number = 2\n",
    "file_path = '/exports/csce/datastore/geos/users/s1440040/projects/phd-fastscape/phd-fastscape/precipitation_analysis/models/'\n"
   ]
  },
  {
   "cell_type": "code",
   "execution_count": 89,
   "id": "bdf03c63-f251-41ee-8e96-5e897a2c3fa7",
   "metadata": {},
   "outputs": [
    {
     "data": {
      "application/vnd.jupyter.widget-view+json": {
       "model_id": "baba28aa29d649e0af406a936f8d58c2",
       "version_major": 2,
       "version_minor": 0
      },
      "text/plain": [
       "             0% | initialize "
      ]
     },
     "metadata": {},
     "output_type": "display_data"
    }
   ],
   "source": [
    "#Running it\n",
    "zg = zarr.group(f\"{file_path}snap2steady_discharge_grad_{grad_number}.zarr\", overwrite=True)\n",
    "with model,xs.monitoring.ProgressBar():\n",
    "    out_ds = ds_in.xsimlab.run(store = zg)"
   ]
  },
  {
   "cell_type": "code",
   "execution_count": 6,
   "id": "44c1b3dc-973f-465a-b9cf-3283715391fb",
   "metadata": {},
   "outputs": [],
   "source": [
    "with model:\n",
    "    out_ds = ds_in.xsimlab.run()"
   ]
  },
  {
   "cell_type": "code",
   "execution_count": 7,
   "id": "8b0258c3-b0ea-43f6-81a7-3045e482d12e",
   "metadata": {},
   "outputs": [
    {
     "data": {
      "application/vnd.jupyter.widget-view+json": {
       "model_id": "a34db3748cc7421a8aed6cfb8fdd50c5",
       "version_major": 2,
       "version_minor": 0
      },
      "text/plain": [
       "Output(layout=Layout(height='640px'))"
      ]
     },
     "metadata": {},
     "output_type": "display_data"
    }
   ],
   "source": [
    "from ipyfastscape import TopoViz3d\n",
    "\n",
    "\n",
    "app = TopoViz3d(out_ds, canvas_height=600, time_dim=\"out\",elevation_var = \"snast__StStZ\" )\n",
    "\n",
    "app.show()"
   ]
  },
  {
   "cell_type": "markdown",
   "id": "5b6127c2-eb94-492f-84a4-a36f389fdb37",
   "metadata": {},
   "source": [
    "# K backcalculation\n",
    "Need to do this before running the model"
   ]
  },
  {
   "cell_type": "code",
   "execution_count": 6,
   "id": "d69be6fd-2ee7-46e9-92c4-e9dac5819b5a",
   "metadata": {},
   "outputs": [],
   "source": [
    "K_values = np.linspace(2e-5, 1e-6, 10)\n",
    "# if 10 is increased, then it takes too long to find the optimal relief"
   ]
  },
  {
   "cell_type": "code",
   "execution_count": 5,
   "id": "6a087f19-8cb2-4f3d-a4b6-edd0a69c2160",
   "metadata": {},
   "outputs": [],
   "source": [
    "def calculate_relief(elevation):\n",
    "    elevation = np.array(elevation)\n",
    "    median_relief = np.median(elevation)\n",
    "    return median_relief"
   ]
  },
  {
   "cell_type": "code",
   "execution_count": 25,
   "id": "86412ca7-2c0c-44d8-bf8b-f6d845555ccc",
   "metadata": {},
   "outputs": [
    {
     "name": "stdout",
     "output_type": "stream",
     "text": [
      "1374.9053844190848\n"
     ]
    }
   ],
   "source": [
    "K = np.zeros((ny,nx))+3e-8\n",
    "with model:\n",
    "    out_dsK = (ds_in.xsimlab.run())\n",
    "    median_relief = calculate_relief(out_dsK.snast__StStZ.isel(out=-1))\n",
    "    print(median_relief)"
   ]
  },
  {
   "cell_type": "code",
   "execution_count": 8,
   "id": "8511dfd2-4160-437b-995f-6b29b47e92c6",
   "metadata": {},
   "outputs": [
    {
     "data": {
      "text/plain": [
       "1276.747677129099"
      ]
     },
     "execution_count": 8,
     "metadata": {},
     "output_type": "execute_result"
    }
   ],
   "source": [
    "median_relief"
   ]
  },
  {
   "cell_type": "code",
   "execution_count": null,
   "id": "a8cc55ec-a2d6-4cd4-ba86-41813c0d5e23",
   "metadata": {},
   "outputs": [],
   "source": [
    "# main loop to adjust the K values \n",
    "\n",
    "K = np.zeros((ny,nx))+2e-5\n",
    "#K_values = np.logspace(-5, -6, 20)\n",
    "#relief = np.random.randint(0,20)\n",
    "elev_upper_bound = 1500\n",
    "elev_lower_bound = 1000\n",
    "keep_model_running = True\n",
    "with model:\n",
    "    out_dsK = (ds_in.xsimlab.run())\n",
    "    median_relief = calculate_relief(out_dsK.snast__StStZ.isel(out=-1))\n",
    "    K_increases = 0 # start from 1 because this is gonna be the multiplier for the K value. \n",
    "    K_decreases = 0\n",
    "    iteration_number = 0\n",
    "    print(\"The starting median relief is: {}.\".format(median_relief))\n",
    "    print(\"The starting K value is: {}.\".format(K[0][0]))\n",
    "    while keep_model_running == True: \n",
    "\n",
    "        #K_value = float(np.mean(ds_in.snast__K))\n",
    "        #print(median_relief)\n",
    "        if median_relief >= elev_upper_bound:\n",
    "            while (median_relief > elev_upper_bound):\n",
    "                # increase K    \n",
    "                K_increases += 1\n",
    "                new_K = np.zeros((ny,nx))+K_values[K_increases] \n",
    "                K = new_K\n",
    "                \n",
    "                print(\"----------Iteration {}------------\".format(iteration_number))\n",
    "                iteration_number += 1\n",
    "                print(K[0][0])\n",
    "                print(\"I am increasing K\")\n",
    "                print(\"The new K is: {}\".format(new_K[0][0]))\n",
    "                out_dsK = (ds_in.xsimlab.update_vars(input_vars={'snast__K':new_K}).xsimlab.run())\n",
    "                median_relief = calculate_relief(out_dsK.snast__StStZ.isel(out=-1))\n",
    "                print(\"New Median Relief: {}\".format(median_relief))\n",
    "                print(K[0][0])\n",
    "                 # at the end because the list will start in index 0 \n",
    "                if (median_relief < elev_upper_bound and median_relief > elev_lower_bound):\n",
    "                    # Break the loop \n",
    "                    out_dsK = (ds_in.xsimlab.update_vars(input_vars={'snast__K':new_K}).xsimlab.run(store=\"snap2steady_discharge_highrelief_100.zarr\"))\n",
    "                    keep_model_running = False\n",
    "                    print(\"I have reached an acceptable relief. Final relief is {}. Final K: {}\".format(median_relief, new_K[0][0]))\n",
    "                    #break \n",
    "                #K += 0.1\n",
    "                #print(K)\n",
    "                #print(relief)\n",
    "\n",
    "        elif (median_relief <= elev_lower_bound):\n",
    "            while (median_relief< elev_lower_bound):\n",
    "                K_decreases += 1\n",
    "                new_K = np.zeros((ny,nx))+K_values[-K_decreases] \n",
    "                K = new_K\n",
    "                print(\"----------Iteration {}------------\".format(iteration_number))\n",
    "                iteration_number += 1\n",
    "                print(K[0][0])\n",
    "                print(\"I am decreasing K\".format(iteration_number))\n",
    "                print(\"The new K is: {}\".format(new_K[0][0]))\n",
    "                out_dsK = (ds_in.xsimlab.update_vars(input_vars={'snast__K':new_K}).xsimlab.run())\n",
    "                median_relief = calculate_relief(out_dsK.snast__StStZ.isel(out=-1))\n",
    "                \n",
    "                print(\"New Median Relief: {}\".format(median_relief)) \n",
    "                if (median_relief < elev_upper_bound and median_relief > elev_lower_bound):\n",
    "                    # Break the loop \n",
    "                    out_dsK = (ds_in.xsimlab.update_vars(input_vars={'snast__K':new_K}).xsimlab.run(store=\"snap2steady_discharge_highrelief_100.zarr\"))\n",
    "                    keep_model_running = False\n",
    "                    print(\"I have reached an acceptable relief. Final relief is {}. Final K: {}\".format(median_relief, new_K[0][0]))\n",
    "                    #break \n",
    "\n",
    "#out_ds = in_ds.xsimlab.run(model=advect_model, store=\"advect_model_run.zarr\")       "
   ]
  },
  {
   "cell_type": "markdown",
   "id": "298fce36-3c6b-465e-b282-c1beb616decd",
   "metadata": {},
   "source": [
    "## REMEMBER TO UPDATE K!!!"
   ]
  },
  {
   "cell_type": "code",
   "execution_count": 28,
   "id": "c24c2c48-c509-4e05-bcf9-3732d39ca2ff",
   "metadata": {},
   "outputs": [],
   "source": [
    "grad_number = 5"
   ]
  },
  {
   "cell_type": "code",
   "execution_count": 29,
   "id": "de216bc1-ed4f-41e6-bfa1-048b07ba6689",
   "metadata": {},
   "outputs": [
    {
     "data": {
      "application/vnd.jupyter.widget-view+json": {
       "model_id": "cdbb304ceef445a8ad36eab429ae8147",
       "version_major": 2,
       "version_minor": 0
      },
      "text/plain": [
       "             0% | initialize "
      ]
     },
     "metadata": {},
     "output_type": "display_data"
    }
   ],
   "source": [
    "#Running it\n",
    "zg = zarr.group(f\"snap2steady_discharge_grad_{grad_number}_update.zarr\", overwrite=True)\n",
    "with model,xs.monitoring.ProgressBar():\n",
    "    out_ds = ds_in.xsimlab.run(store = zg)"
   ]
  },
  {
   "cell_type": "markdown",
   "id": "e9dd933c-5cc7-4715-ad65-eddb88d3846f",
   "metadata": {},
   "source": [
    "# Save the output as an lsdtt object"
   ]
  },
  {
   "cell_type": "code",
   "execution_count": 90,
   "id": "bd0aa1df-54ad-4d0b-97be-1bc29d5528b8",
   "metadata": {},
   "outputs": [],
   "source": [
    "\n",
    "import lsdtopytools as lsd\n",
    "\n",
    "lsd.raster_loader.save_raster(\n",
    "#     out_ds[\"topography__elevation\"].isel({\"out\": -1}).values, # The raster as the last output from the model\n",
    "    out_ds[\"snast__StStZ\"].isel({\"out\": -1}).values[::-1], # if you want to invert the model but keep the dimensions you can also cal that line\n",
    "    x_min = 0,\n",
    "    x_max = Lx,\n",
    "    y_min = Ly, # alternatively you can inverse the two\n",
    "    y_max = 0, # alternatively you can inverse the two\n",
    "    res = px_res,\n",
    "    crs = \"EPSG:32635\",\n",
    "    fname = f\"{file_path}snap2steady_discharge_grad_{grad_number}.tif\"\n",
    ")"
   ]
  },
  {
   "cell_type": "code",
   "execution_count": 91,
   "id": "4e3ac6db-ae62-4fca-bbfa-75ff487030bc",
   "metadata": {},
   "outputs": [],
   "source": [
    "# Save also the rainfall raster\n",
    "lsd.raster_loader.save_raster(\n",
    "#     out_ds[\"topography__elevation\"].isel({\"out\": -1}).values, # The raster as the last output from the model\n",
    "    out_ds[\"precip__precip_rate\"].isel({\"out\": -1}).values[::-1], # if you want to invert the model but keep the dimensions you can also cal that line\n",
    "    x_min = 0,\n",
    "    x_max = Lx,\n",
    "    y_min = Ly, # alternatively you can inverse the two\n",
    "    y_max = 0, # alternatively you can inverse the two\n",
    "    res = px_res,\n",
    "    crs = \"EPSG:32635\",\n",
    "    fname = f\"{file_path}precip_snap2steady_discharge_grad_{grad_number}.tif\"\n",
    ")"
   ]
  },
  {
   "cell_type": "markdown",
   "id": "3f666e31-3a72-45c9-b887-36776b9e54eb",
   "metadata": {},
   "source": [
    "# Visualise the result"
   ]
  },
  {
   "cell_type": "code",
   "execution_count": 32,
   "id": "717bc9ed-84d8-41ad-8ccb-9e54450ed014",
   "metadata": {},
   "outputs": [
    {
     "data": {
      "application/vnd.jupyter.widget-view+json": {
       "model_id": "c8353383251a437a817bf317952196bb",
       "version_major": 2,
       "version_minor": 0
      },
      "text/plain": [
       "Output(layout=Layout(height='640px'))"
      ]
     },
     "metadata": {},
     "output_type": "display_data"
    }
   ],
   "source": [
    "from ipyfastscape import TopoViz3d\n",
    "\n",
    "\n",
    "app = TopoViz3d(out_ds, canvas_height=600, time_dim=\"out\",elevation_var = \"snast__StStZ\" )\n",
    "\n",
    "app.show()"
   ]
  },
  {
   "cell_type": "code",
   "execution_count": null,
   "id": "5a43d496-9fec-43e9-9fd8-aee36fcff68f",
   "metadata": {},
   "outputs": [],
   "source": []
  }
 ],
 "metadata": {
  "kernelspec": {
   "display_name": "Python 3",
   "language": "python",
   "name": "python3"
  },
  "language_info": {
   "codemirror_mode": {
    "name": "ipython",
    "version": 3
   },
   "file_extension": ".py",
   "mimetype": "text/x-python",
   "name": "python",
   "nbconvert_exporter": "python",
   "pygments_lexer": "ipython3",
   "version": "3.8.10"
  }
 },
 "nbformat": 4,
 "nbformat_minor": 5
}
